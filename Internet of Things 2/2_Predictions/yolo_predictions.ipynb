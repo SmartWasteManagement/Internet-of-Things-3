{
 "cells": [
  {
   "cell_type": "code",
   "execution_count": 1,
   "id": "576c8c4c-e9e5-4780-b3d5-526d09488355",
   "metadata": {},
   "outputs": [],
   "source": [
    "import cv2\n",
    "import numpy as np\n",
    "import os\n",
    "import yaml\n",
    "from yaml import SafeLoader"
   ]
  },
  {
   "cell_type": "code",
   "execution_count": 2,
   "id": "b47ee8f5-48bf-450d-ad40-d0bf1a62e58e",
   "metadata": {},
   "outputs": [
    {
     "name": "stdout",
     "output_type": "stream",
     "text": [
      "['BIODEGRADABLE', 'GLASS', 'PLASTIC', 'METAL', 'CARDBOARD', 'PAPER']\n"
     ]
    }
   ],
   "source": [
    "# Load yaml\n",
    "with open('data.yaml',mode='r') as f:\n",
    "    data_yaml = yaml.load(f,Loader=SafeLoader)\n",
    "    \n",
    "labels = data_yaml['names']\n",
    "print(labels)\n"
   ]
  },
  {
   "cell_type": "code",
   "execution_count": 3,
   "id": "cf1267e1-ec08-4fbb-aa89-c6e3f30a94a5",
   "metadata": {},
   "outputs": [],
   "source": [
    "# Load YOLO model\n",
    "yolo = cv2.dnn.readNetFromONNX('./Model2/weights/best.onnx')\n",
    "yolo.setPreferableBackend(cv2.dnn.DNN_BACKEND_OPENCV)\n",
    "yolo.setPreferableTarget(cv2.dnn.DNN_TARGET_CPU)"
   ]
  },
  {
   "cell_type": "code",
   "execution_count": 4,
   "id": "5f1ba0ed-abe8-46a2-9fd1-d46d888fedd6",
   "metadata": {},
   "outputs": [],
   "source": [
    "# Load the image\n",
    "img = cv2.imread('/Users/sujalnagpal/Desktop/Internet of Things 2/2_Predictions/Screenshot 2024-03-15 at 10.03.46 AM.png')\n",
    "image = img.copy()\n",
    "row, col, d = image.shape\n",
    "\n",
    "# Get the YOLO prediction from the image\n",
    "# step-1 convert image into square image (array)\n",
    "max_rc = max(row, col)\n",
    "input_image = np.zeros((max_rc, max_rc, 3), dtype=np.uint8)\n",
    "input_image[0:row, 0:col, :] = image\n",
    "# ste-2: get predictions from square array\n",
    "INPUT_WH_YOLO = 640\n",
    "blob = cv2.dnn.blobFromImage(input_image,1/255,(INPUT_WH_YOLO,INPUT_WH_YOLO),swapRB=True,crop=False)\n",
    "yolo.setInput(blob)\n",
    "preds = yolo.forward() # detection or prediction from YOLO"
   ]
  },
  {
   "cell_type": "code",
   "execution_count": 5,
   "id": "429982a8-9100-43a3-85ce-be21116cd9c7",
   "metadata": {},
   "outputs": [
    {
     "name": "stdout",
     "output_type": "stream",
     "text": [
      "(1, 25200, 11)\n"
     ]
    }
   ],
   "source": [
    "print(preds.shape)"
   ]
  },
  {
   "cell_type": "code",
   "execution_count": 6,
   "id": "9cf8b660-e641-4752-a569-0d1c00b8f273",
   "metadata": {},
   "outputs": [],
   "source": [
    "# Non maximum Supression\n",
    "# step-1: filter detection based on confidence (0.4) and probability score (0.25)\n",
    "detections = preds[0]\n",
    "boxes = []\n",
    "confidences = []\n",
    "classes = []\n",
    "\n",
    "# width and height of the image (input_image)\n",
    "image_w, image_h = input_image.shape[:2]\n",
    "x_factor = image_w/INPUT_WH_YOLO\n",
    "y_factor = image_h/INPUT_WH_YOLO\n",
    "\n",
    "\n",
    "for i in range(len(detections)):\n",
    "    row = detections[i]\n",
    "    confidence = row[4] # confidence of detection an object\n",
    "    if confidence > 0.0:\n",
    "        class_score = row[5:] #maximum probability from one object\n",
    "        class_id = row[5:].argmax() # get the index position at which max probability occur\n",
    "        \n",
    "        if np.any(class_score > 0.25):\n",
    "\n",
    "            cx,cy,w,h = row[0:4]\n",
    "            # construct bounding box from four values\n",
    "            # left, top, width and height\n",
    "            left = int((cx - 0.5*w)*x_factor)\n",
    "            top = int((cy - 0.5*h)*y_factor)\n",
    "            width = int(w*x_factor)\n",
    "            height = int(h*y_factor)\n",
    "            \n",
    "            box = np.array([left,top,width,height])\n",
    "            \n",
    "            # append values into the list\n",
    "            confidences.append(confidence)\n",
    "            boxes.append(box)\n",
    "            classes.append(class_id)\n",
    "            \n",
    "# clean\n",
    "boxes_np = np.array(boxes).tolist()\n",
    "confidences_np = np.array(confidences).tolist()\n",
    "\n",
    "#NMS\n",
    "index = cv2.dnn.NMSBoxes(boxes_np,confidences_np,0.25,0.45).flatten()            \n"
   ]
  },
  {
   "cell_type": "code",
   "execution_count": 7,
   "id": "1951292f-0098-4a20-874e-61fe1da47856",
   "metadata": {},
   "outputs": [
    {
     "data": {
      "text/plain": [
       "16"
      ]
     },
     "execution_count": 7,
     "metadata": {},
     "output_type": "execute_result"
    }
   ],
   "source": [
    "len(index)"
   ]
  },
  {
   "cell_type": "code",
   "execution_count": 8,
   "id": "c36c1ad0-f8e7-495a-9ec8-dac10d67eeee",
   "metadata": {},
   "outputs": [
    {
     "name": "stdout",
     "output_type": "stream",
     "text": [
      "22120\n",
      "GLASS: 0.9191854596138%\n",
      "22103\n",
      "PLASTIC: 0.8884083032608032%\n",
      "22125\n",
      "PLASTIC: 0.8827975392341614%\n",
      "5743\n",
      "METAL: 0.880513608455658%\n",
      "22135\n",
      "GLASS: 0.8782142996788025%\n",
      "22154\n",
      "GLASS: 0.8740674257278442%\n",
      "22168\n",
      "PLASTIC: 0.8635746836662292%\n",
      "18856\n",
      "PLASTIC: 0.8329452872276306%\n",
      "6534\n",
      "PLASTIC: 0.8319578766822815%\n",
      "7172\n",
      "METAL: 0.822797954082489%\n",
      "17105\n",
      "PLASTIC: 0.8125244379043579%\n",
      "7125\n",
      "METAL: 0.7817591428756714%\n",
      "18873\n",
      "METAL: 0.7787566781044006%\n",
      "5875\n",
      "METAL: 0.7361181974411011%\n",
      "21747\n",
      "PLASTIC: 0.7186959981918335%\n",
      "22117\n",
      "GLASS: 0.7077674865722656%\n"
     ]
    }
   ],
   "source": [
    "# Draw the bounding boxes\n",
    "for ind in index:\n",
    "    print(ind)\n",
    "    x, y, w, h = boxes_np[ind]\n",
    "    bb_conf = confidences_np[ind]\n",
    "    classes_id = classes[ind]\n",
    "    class_name = labels[classes_id]\n",
    "    \n",
    "    text = f'{class_name}: {bb_conf}%'\n",
    "    print(text)\n",
    "    \n",
    "    cv2.rectangle(image, (x, y), (x+w, y+h), (0, 255, 0), 2)\n",
    "    cv2.rectangle(image, (x, y-30), (x+w, y), (255, 255, 255), -1)\n",
    "    \n",
    "    cv2.putText(image, text, (x, y-10), cv2.FONT_HERSHEY_PLAIN, 0.7, (0, 0, 0), 1)\n"
   ]
  },
  {
   "cell_type": "code",
   "execution_count": null,
   "id": "6c6aadaf-0cb7-4265-87f0-58e7a6aa19b4",
   "metadata": {},
   "outputs": [],
   "source": [
    "cv2.imshow('original',img)\n",
    "cv2.imshow('yolo_prediction',image)\n",
    "cv2.waitKey(0)\n",
    "cv2.destroyAllWindows()"
   ]
  },
  {
   "cell_type": "code",
   "execution_count": null,
   "id": "a6be6a28-acc1-443a-8d9e-bb6fe69882bc",
   "metadata": {},
   "outputs": [],
   "source": []
  }
 ],
 "metadata": {
  "kernelspec": {
   "display_name": "Python 3 (ipykernel)",
   "language": "python",
   "name": "python3"
  },
  "language_info": {
   "codemirror_mode": {
    "name": "ipython",
    "version": 3
   },
   "file_extension": ".py",
   "mimetype": "text/x-python",
   "name": "python",
   "nbconvert_exporter": "python",
   "pygments_lexer": "ipython3",
   "version": "3.10.9"
  }
 },
 "nbformat": 4,
 "nbformat_minor": 5
}
