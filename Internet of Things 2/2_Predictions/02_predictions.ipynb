{
 "cells": [
  {
   "cell_type": "code",
   "execution_count": 2,
   "id": "5b8c41c0-47d6-421b-b122-b5ab3edfa48e",
   "metadata": {},
   "outputs": [],
   "source": [
    "import cv2\n",
    "from yolo_predictions import YOLO_Pred"
   ]
  },
  {
   "cell_type": "code",
   "execution_count": 3,
   "id": "192e144d-e8ab-49a1-b824-fc0af29456ef",
   "metadata": {},
   "outputs": [],
   "source": [
    "# Instantiate YOLO_Pred object\n",
    "yolo = YOLO_Pred('./Model2/weights/best.onnx', 'data.yaml')"
   ]
  },
  {
   "cell_type": "code",
   "execution_count": 3,
   "id": "198fbba8-22fd-4749-84a4-992ad4f4e438",
   "metadata": {},
   "outputs": [],
   "source": [
    "# Read the image\n",
    "img = cv2.imread('/Users/sujalnagpal/Desktop/Screenshot 2024-05-03 at 12.04.16 AM.png')\n",
    "\n",
    "# Display the image\n",
    "cv2.imshow('img', img)\n",
    "cv2.waitKey(0)\n",
    "cv2.destroyAllWindows()"
   ]
  },
  {
   "cell_type": "code",
   "execution_count": 4,
   "id": "967041fe",
   "metadata": {},
   "outputs": [
    {
     "name": "stdout",
     "output_type": "stream",
     "text": [
      "The detected waste includes one or more items from the non-recyclable categories: BIODEGRADABLE, PAPER. And the waste needs to be placed in Bin A, which is the Non-Recyclable bin.\n",
      "Detected waste: BIODEGRADABLE\n"
     ]
    }
   ],
   "source": [
    "# Make predictions\n",
    "img_pred = yolo.predictions(img)"
   ]
  },
  {
   "cell_type": "code",
   "execution_count": 5,
   "id": "d21384e0-1aed-405f-8052-b25534c3f092",
   "metadata": {},
   "outputs": [],
   "source": [
    "# Display the predicted image\n",
    "cv2.imshow('prediction image', img_pred)\n",
    "cv2.waitKey(0)\n",
    "cv2.destroyAllWindows()\n"
   ]
  },
  {
   "cell_type": "code",
   "execution_count": null,
   "id": "4e605818-8d38-4c60-915a-71db09d9d9b6",
   "metadata": {},
   "outputs": [
    {
     "ename": "AttributeError",
     "evalue": "'tuple' object has no attribute 'flatten'",
     "output_type": "error",
     "traceback": [
      "\u001b[0;31m---------------------------------------------------------------------------\u001b[0m",
      "\u001b[0;31mAttributeError\u001b[0m                            Traceback (most recent call last)",
      "Cell \u001b[0;32mIn[11], line 19\u001b[0m\n\u001b[1;32m     16\u001b[0m     cap\u001b[38;5;241m.\u001b[39mread()\n\u001b[1;32m     18\u001b[0m \u001b[38;5;66;03m# Perform predictions\u001b[39;00m\n\u001b[0;32m---> 19\u001b[0m pred_image \u001b[38;5;241m=\u001b[39m \u001b[43myolo\u001b[49m\u001b[38;5;241;43m.\u001b[39;49m\u001b[43mpredictions\u001b[49m\u001b[43m(\u001b[49m\u001b[43mframe\u001b[49m\u001b[43m)\u001b[49m\n\u001b[1;32m     21\u001b[0m \u001b[38;5;66;03m# Display the predicted image\u001b[39;00m\n\u001b[1;32m     22\u001b[0m cv2\u001b[38;5;241m.\u001b[39mimshow(\u001b[38;5;124m'\u001b[39m\u001b[38;5;124mYOLO\u001b[39m\u001b[38;5;124m'\u001b[39m, pred_image)\n",
      "File \u001b[0;32m~/Desktop/Internet of Things 2/2_Predictions/yolo_predictions.py:82\u001b[0m, in \u001b[0;36mYOLO_Pred.predictions\u001b[0;34m(self, image)\u001b[0m\n\u001b[1;32m     79\u001b[0m confidences_np \u001b[38;5;241m=\u001b[39m np\u001b[38;5;241m.\u001b[39marray(confidences)\u001b[38;5;241m.\u001b[39mtolist()\n\u001b[1;32m     81\u001b[0m \u001b[38;5;66;03m#NMS\u001b[39;00m\n\u001b[0;32m---> 82\u001b[0m index \u001b[38;5;241m=\u001b[39m \u001b[43mcv2\u001b[49m\u001b[38;5;241;43m.\u001b[39;49m\u001b[43mdnn\u001b[49m\u001b[38;5;241;43m.\u001b[39;49m\u001b[43mNMSBoxes\u001b[49m\u001b[43m(\u001b[49m\u001b[43mboxes_np\u001b[49m\u001b[43m,\u001b[49m\u001b[43mconfidences_np\u001b[49m\u001b[43m,\u001b[49m\u001b[38;5;241;43m0.25\u001b[39;49m\u001b[43m,\u001b[49m\u001b[38;5;241;43m0.45\u001b[39;49m\u001b[43m)\u001b[49m\u001b[38;5;241;43m.\u001b[39;49m\u001b[43mflatten\u001b[49m()            \n\u001b[1;32m     87\u001b[0m \u001b[38;5;66;03m# Draw the bounding boxes\u001b[39;00m\n\u001b[1;32m     88\u001b[0m \u001b[38;5;28;01mfor\u001b[39;00m ind \u001b[38;5;129;01min\u001b[39;00m index:\n",
      "\u001b[0;31mAttributeError\u001b[0m: 'tuple' object has no attribute 'flatten'"
     ]
    }
   ],
   "source": [
    "#REAL TIME DETECTION\n",
    "\n",
    "cap = cv2.VideoCapture('/Users/sujalnagpal/Desktop/PotholeDetectionAPI/2_Predictions/istockphoto-939247874-640_adpp_is.mp4')\n",
    "\n",
    "# Set the frame skip factor to control the speed\n",
    "frame_skip_factor = 1  # Adjust this value as needed\n",
    "\n",
    "while True:\n",
    "    ret, frame = cap.read()\n",
    "    if not ret:\n",
    "        print('Unable to read video')\n",
    "        break\n",
    "\n",
    "    # Skip frames to increase speed\n",
    "    for _ in range(frame_skip_factor - 1):\n",
    "        cap.read()\n",
    "\n",
    "    # Perform predictions\n",
    "    pred_image = yolo.predictions(frame)\n",
    "\n",
    "    # Display the predicted image\n",
    "    cv2.imshow('YOLO', pred_image)\n",
    "\n",
    "    # Break the loop if the 'Esc' key is pressed\n",
    "    if cv2.waitKey(1) == 27:\n",
    "        break\n",
    "\n",
    "# Release the video capture\n",
    "cap.release()\n",
    "cv2.destroyAllWindows()"
   ]
  },
  {
   "cell_type": "code",
   "execution_count": 5,
   "id": "7901ec59-06e3-4c20-896c-7b59cebd73f4",
   "metadata": {},
   "outputs": [
    {
     "name": "stdout",
     "output_type": "stream",
     "text": [
      "Detected waste belongs to both recyclable and non-recyclable categories.\n",
      "Please separate the waste accordingly.\n",
      "Detected waste: CARDBOARD, GLASS, PAPER\n",
      "Detected waste belongs to both recyclable and non-recyclable categories.\n",
      "Please separate the waste accordingly.\n",
      "Detected waste: CARDBOARD, BIODEGRADABLE, GLASS\n",
      "The detected waste includes one or more items from the recyclable categories: METAL, PLASTIC, CARDBOARD, GLASS. And the waste needs to be placed in Bin A, which is the Non-Recyclable bin.\n",
      "Detected waste: CARDBOARD, GLASS\n",
      "Detected waste belongs to both recyclable and non-recyclable categories.\n",
      "Please separate the waste accordingly.\n",
      "Detected waste: CARDBOARD, BIODEGRADABLE, PAPER\n",
      "Detected waste belongs to both recyclable and non-recyclable categories.\n",
      "Please separate the waste accordingly.\n",
      "Detected waste: CARDBOARD, BIODEGRADABLE\n",
      "Detected waste belongs to both recyclable and non-recyclable categories.\n",
      "Please separate the waste accordingly.\n",
      "Detected waste: CARDBOARD, BIODEGRADABLE\n",
      "Detected waste belongs to both recyclable and non-recyclable categories.\n",
      "Please separate the waste accordingly.\n",
      "Detected waste: CARDBOARD, BIODEGRADABLE\n",
      "Detected waste belongs to both recyclable and non-recyclable categories.\n",
      "Please separate the waste accordingly.\n",
      "Detected waste: CARDBOARD, BIODEGRADABLE\n",
      "Detected waste belongs to both recyclable and non-recyclable categories.\n",
      "Please separate the waste accordingly.\n",
      "Detected waste: CARDBOARD, BIODEGRADABLE\n",
      "Detected waste belongs to both recyclable and non-recyclable categories.\n",
      "Please separate the waste accordingly.\n",
      "Detected waste: CARDBOARD, BIODEGRADABLE\n",
      "Detected waste belongs to both recyclable and non-recyclable categories.\n",
      "Please separate the waste accordingly.\n",
      "Detected waste: CARDBOARD, BIODEGRADABLE\n",
      "Detected waste belongs to both recyclable and non-recyclable categories.\n",
      "Please separate the waste accordingly.\n",
      "Detected waste: CARDBOARD, BIODEGRADABLE\n",
      "Detected waste belongs to both recyclable and non-recyclable categories.\n",
      "Please separate the waste accordingly.\n",
      "Detected waste: CARDBOARD, PAPER\n"
     ]
    },
    {
     "ename": "KeyboardInterrupt",
     "evalue": "",
     "output_type": "error",
     "traceback": [
      "\u001b[0;31m---------------------------------------------------------------------------\u001b[0m",
      "\u001b[0;31mKeyboardInterrupt\u001b[0m                         Traceback (most recent call last)",
      "Cell \u001b[0;32mIn[5], line 12\u001b[0m\n\u001b[1;32m      9\u001b[0m     \u001b[38;5;28;01mbreak\u001b[39;00m\n\u001b[1;32m     11\u001b[0m \u001b[38;5;66;03m# Perform predictions\u001b[39;00m\n\u001b[0;32m---> 12\u001b[0m pred_image \u001b[38;5;241m=\u001b[39m \u001b[43myolo\u001b[49m\u001b[38;5;241;43m.\u001b[39;49m\u001b[43mpredictions\u001b[49m\u001b[43m(\u001b[49m\u001b[43mframe\u001b[49m\u001b[43m)\u001b[49m\n\u001b[1;32m     14\u001b[0m \u001b[38;5;66;03m# Display the predicted image\u001b[39;00m\n\u001b[1;32m     15\u001b[0m cv2\u001b[38;5;241m.\u001b[39mimshow(\u001b[38;5;124m'\u001b[39m\u001b[38;5;124mYOLO Real-Time\u001b[39m\u001b[38;5;124m'\u001b[39m, pred_image)\n",
      "File \u001b[0;32m~/Desktop/Internet of Things 2/2_Predictions/yolo_predictions.py:64\u001b[0m, in \u001b[0;36mYOLO_Pred.predictions\u001b[0;34m(self, image)\u001b[0m\n\u001b[1;32m     61\u001b[0m width \u001b[38;5;241m=\u001b[39m \u001b[38;5;28mint\u001b[39m(w \u001b[38;5;241m*\u001b[39m x_factor)\n\u001b[1;32m     62\u001b[0m height \u001b[38;5;241m=\u001b[39m \u001b[38;5;28mint\u001b[39m(h \u001b[38;5;241m*\u001b[39m y_factor)\n\u001b[0;32m---> 64\u001b[0m box \u001b[38;5;241m=\u001b[39m \u001b[43mnp\u001b[49m\u001b[38;5;241;43m.\u001b[39;49m\u001b[43marray\u001b[49m\u001b[43m(\u001b[49m\u001b[43m[\u001b[49m\u001b[43mleft\u001b[49m\u001b[43m,\u001b[49m\u001b[43m \u001b[49m\u001b[43mtop\u001b[49m\u001b[43m,\u001b[49m\u001b[43m \u001b[49m\u001b[43mwidth\u001b[49m\u001b[43m,\u001b[49m\u001b[43m \u001b[49m\u001b[43mheight\u001b[49m\u001b[43m]\u001b[49m\u001b[43m)\u001b[49m\n\u001b[1;32m     66\u001b[0m \u001b[38;5;66;03m# append values into the list\u001b[39;00m\n\u001b[1;32m     67\u001b[0m confidences\u001b[38;5;241m.\u001b[39mappend(confidence)\n",
      "\u001b[0;31mKeyboardInterrupt\u001b[0m: "
     ]
    }
   ],
   "source": [
    "# Open the default camera (you can change the index if you have multiple cameras)\n",
    "cap = cv2.VideoCapture(0)\n",
    "\n",
    "while True:\n",
    "    # Read a frame from the camera\n",
    "    ret, frame = cap.read()\n",
    "    if not ret:\n",
    "        print('Unable to read video')\n",
    "        break\n",
    "\n",
    "    # Perform predictions\n",
    "    pred_image = yolo.predictions(frame)\n",
    "\n",
    "    # Display the predicted image\n",
    "    cv2.imshow('YOLO Real-Time', pred_image)\n",
    "\n",
    "    # Break the loop if the 'Esc' key is pressed\n",
    "    if cv2.waitKey(1) == 27:\n",
    "        break\n",
    "\n",
    "# Release the video capture\n",
    "cap.release()\n",
    "cv2.destroyAllWindows()"
   ]
  },
  {
   "cell_type": "code",
   "execution_count": null,
   "id": "bdc443b0-fa7d-4f49-a485-8bf533d4fa1f",
   "metadata": {},
   "outputs": [],
   "source": []
  }
 ],
 "metadata": {
  "kernelspec": {
   "display_name": "Python 3 (ipykernel)",
   "language": "python",
   "name": "python3"
  },
  "language_info": {
   "codemirror_mode": {
    "name": "ipython",
    "version": 3
   },
   "file_extension": ".py",
   "mimetype": "text/x-python",
   "name": "python",
   "nbconvert_exporter": "python",
   "pygments_lexer": "ipython3",
   "version": "3.10.9"
  }
 },
 "nbformat": 4,
 "nbformat_minor": 5
}
